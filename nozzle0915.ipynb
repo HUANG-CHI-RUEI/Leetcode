{
  "nbformat": 4,
  "nbformat_minor": 0,
  "metadata": {
    "colab": {
      "name": "nozzle.ipynb",
      "provenance": [],
      "collapsed_sections": []
    },
    "kernelspec": {
      "name": "python3",
      "display_name": "Python 3"
    },
    "language_info": {
      "name": "python"
    },
    "accelerator": "GPU"
  },
  "cells": [
    {
      "cell_type": "code",
      "metadata": {
        "id": "uC4bl-UlUZdK",
        "colab": {
          "base_uri": "https://localhost:8080/"
        },
        "outputId": "40457fcd-7a87-4ff0-b024-3678ecf82b85"
      },
      "source": [
        "#連接google雲端\n",
        "from google.colab import drive\n",
        "drive.mount('/content/drive')\n"
      ],
      "execution_count": 5,
      "outputs": [
        {
          "output_type": "stream",
          "name": "stdout",
          "text": [
            "Drive already mounted at /content/drive; to attempt to forcibly remount, call drive.mount(\"/content/drive\", force_remount=True).\n"
          ]
        }
      ]
    },
    {
      "cell_type": "code",
      "metadata": {
        "id": "2lXGXS9JP6lt"
      },
      "source": [
        "# !rm -rf /content/drive/MyDrive/Colab\\ Notebooks"
      ],
      "execution_count": 6,
      "outputs": []
    },
    {
      "cell_type": "code",
      "metadata": {
        "id": "ySrAfuHCPiae"
      },
      "source": [
        "# %cd /content/drive/MyDrive/\n",
        "%cp -r /content/Colab/ /content/drive/MyDrive/Colab/\n",
        "# %cd /content/"
      ],
      "execution_count": 7,
      "outputs": []
    },
    {
      "cell_type": "code",
      "metadata": {
        "colab": {
          "base_uri": "https://localhost:8080/"
        },
        "id": "0ZbW3JzPGdAw",
        "outputId": "c428c483-798c-42d3-cc86-2caa2c5dfd67"
      },
      "source": [
        "!pip install opencv-python==4.2.0.32"
      ],
      "execution_count": 1,
      "outputs": [
        {
          "output_type": "stream",
          "name": "stdout",
          "text": [
            "Requirement already satisfied: opencv-python==4.2.0.32 in /usr/local/lib/python3.7/dist-packages (4.2.0.32)\n",
            "Requirement already satisfied: numpy>=1.14.5 in /usr/local/lib/python3.7/dist-packages (from opencv-python==4.2.0.32) (1.19.5)\n"
          ]
        }
      ]
    },
    {
      "cell_type": "code",
      "metadata": {
        "colab": {
          "base_uri": "https://localhost:8080/"
        },
        "id": "hCbQecHhQ2gk",
        "outputId": "05f13e8d-9505-4bca-f8aa-25dccdb9d07c"
      },
      "source": [
        "# %cd darknet\n",
        "# !sed -i '212s/255/18/' darknet/cfg/yolov4-tiny-obj.cfg\n",
        "# !sed -i '220s/80/1/' darknet/cfg/yolov4-tiny-obj.cfg\n",
        "# !sed -i '263s/255/18/' darknet/cfg/yolov4-tiny-obj.cfg\n",
        "# !sed -i '269s/80/1/' darknet/cfg/yolov4-tiny-obj.cfg\n",
        "# !make\n",
        "# !./darknet detector calc_anchors ../Nozzle_detection/cfg/nozzle.data -num_of_clusters 6 -width 416 -height 416 -showpause\n",
        "# !./darknet detector train ../Nozzle_detection/cfg/nozzle.data cfg/yolov4-tiny-obj.cfg ../Nozzle_detection/cfg/yolov4-tiny.conv.29 -dont_show\n",
        "# !./darknet detector test ../Nozzle_detection/cfg/nozzle.data cfg/yolov4-tiny-obj.cfg ../Nozzle_detection/weights/yolov4-tiny-obj_last.weights ../img_0520/071800_cam.jpg\n",
        "!./darknet detector map ../Nozzle_detection/cfg/nozzle.data cfg/yolov4-tiny-obj.cfg ../Nozzle_detection/weights/yolov4-tiny-obj_last.weights"
      ],
      "execution_count": 13,
      "outputs": [
        {
          "output_type": "stream",
          "name": "stdout",
          "text": [
            " CUDA-version: 11000 (11020), cuDNN: 7.6.5, CUDNN_HALF=1, GPU count: 1  \n",
            " CUDNN_HALF=1 \n",
            " OpenCV version: 3.2.0\n",
            " 0 : compute_capability = 370, cudnn_half = 0, GPU: Tesla K80 \n",
            "net.optimized_memory = 0 \n",
            "mini_batch = 1, batch = 1, time_steps = 1, train = 0 \n",
            "   layer   filters  size/strd(dil)      input                output\n",
            "   0 Create CUDA-stream - 0 \n",
            " Create cudnn-handle 0 \n",
            "conv     32       3 x 3/ 2    416 x 416 x   3 ->  208 x 208 x  32 0.075 BF\n",
            "   1 conv     64       3 x 3/ 2    208 x 208 x  32 ->  104 x 104 x  64 0.399 BF\n",
            "   2 conv     64       3 x 3/ 1    104 x 104 x  64 ->  104 x 104 x  64 0.797 BF\n",
            "   3 route  2 \t\t                       1/2 ->  104 x 104 x  32 \n",
            "   4 conv     32       3 x 3/ 1    104 x 104 x  32 ->  104 x 104 x  32 0.199 BF\n",
            "   5 conv     32       3 x 3/ 1    104 x 104 x  32 ->  104 x 104 x  32 0.199 BF\n",
            "   6 route  5 4 \t                           ->  104 x 104 x  64 \n",
            "   7 conv     64       1 x 1/ 1    104 x 104 x  64 ->  104 x 104 x  64 0.089 BF\n",
            "   8 route  2 7 \t                           ->  104 x 104 x 128 \n",
            "   9 max                2x 2/ 2    104 x 104 x 128 ->   52 x  52 x 128 0.001 BF\n",
            "  10 conv    128       3 x 3/ 1     52 x  52 x 128 ->   52 x  52 x 128 0.797 BF\n",
            "  11 route  10 \t\t                       1/2 ->   52 x  52 x  64 \n",
            "  12 conv     64       3 x 3/ 1     52 x  52 x  64 ->   52 x  52 x  64 0.199 BF\n",
            "  13 conv     64       3 x 3/ 1     52 x  52 x  64 ->   52 x  52 x  64 0.199 BF\n",
            "  14 route  13 12 \t                           ->   52 x  52 x 128 \n",
            "  15 conv    128       1 x 1/ 1     52 x  52 x 128 ->   52 x  52 x 128 0.089 BF\n",
            "  16 route  10 15 \t                           ->   52 x  52 x 256 \n",
            "  17 max                2x 2/ 2     52 x  52 x 256 ->   26 x  26 x 256 0.001 BF\n",
            "  18 conv    256       3 x 3/ 1     26 x  26 x 256 ->   26 x  26 x 256 0.797 BF\n",
            "  19 route  18 \t\t                       1/2 ->   26 x  26 x 128 \n",
            "  20 conv    128       3 x 3/ 1     26 x  26 x 128 ->   26 x  26 x 128 0.199 BF\n",
            "  21 conv    128       3 x 3/ 1     26 x  26 x 128 ->   26 x  26 x 128 0.199 BF\n",
            "  22 route  21 20 \t                           ->   26 x  26 x 256 \n",
            "  23 conv    256       1 x 1/ 1     26 x  26 x 256 ->   26 x  26 x 256 0.089 BF\n",
            "  24 route  18 23 \t                           ->   26 x  26 x 512 \n",
            "  25 max                2x 2/ 2     26 x  26 x 512 ->   13 x  13 x 512 0.000 BF\n",
            "  26 conv    512       3 x 3/ 1     13 x  13 x 512 ->   13 x  13 x 512 0.797 BF\n",
            "  27 conv    256       1 x 1/ 1     13 x  13 x 512 ->   13 x  13 x 256 0.044 BF\n",
            "  28 conv    512       3 x 3/ 1     13 x  13 x 256 ->   13 x  13 x 512 0.399 BF\n",
            "  29 conv     18       1 x 1/ 1     13 x  13 x 512 ->   13 x  13 x  18 0.003 BF\n",
            "  30 yolo\n",
            "[yolo] params: iou loss: ciou (4), iou_norm: 0.07, obj_norm: 1.00, cls_norm: 1.00, delta_norm: 1.00, scale_x_y: 1.05\n",
            "nms_kind: greedynms (1), beta = 0.600000 \n",
            "  31 route  27 \t\t                           ->   13 x  13 x 256 \n",
            "  32 conv    128       1 x 1/ 1     13 x  13 x 256 ->   13 x  13 x 128 0.011 BF\n",
            "  33 upsample                 2x    13 x  13 x 128 ->   26 x  26 x 128\n",
            "  34 route  33 23 \t                           ->   26 x  26 x 384 \n",
            "  35 conv    256       3 x 3/ 1     26 x  26 x 384 ->   26 x  26 x 256 1.196 BF\n",
            "  36 conv     18       1 x 1/ 1     26 x  26 x 256 ->   26 x  26 x  18 0.006 BF\n",
            "  37 yolo\n",
            "[yolo] params: iou loss: ciou (4), iou_norm: 0.07, obj_norm: 1.00, cls_norm: 1.00, delta_norm: 1.00, scale_x_y: 1.05\n",
            "nms_kind: greedynms (1), beta = 0.600000 \n",
            "Total BFLOPS 6.787 \n",
            "avg_outputs = 299663 \n",
            " Allocate additional workspace_size = 12.46 MB \n",
            "Loading weights from ../Nozzle_detection/weights/yolov4-tiny-obj_last.weights...\n",
            " seen 64, trained: 550 K-images (8 Kilo-batches_64) \n",
            "Done! Loaded 38 layers from weights-file \n",
            "\n",
            " calculation mAP (mean average precision)...\n",
            " Detection layer: 30 - type = 28 \n",
            " Detection layer: 37 - type = 28 \n",
            "8\n",
            " detections_count = 5, unique_truth_count = 5  \n",
            "class_id = 0, name = nozzle_ok, ap = 100.00%   \t (TP = 5, FP = 0) \n",
            "\n",
            " for conf_thresh = 0.25, precision = 1.00, recall = 1.00, F1-score = 1.00 \n",
            " for conf_thresh = 0.25, TP = 5, FP = 0, FN = 0, average IoU = 97.06 % \n",
            "\n",
            " IoU threshold = 50 %, used Area-Under-Curve for each unique Recall \n",
            " mean average precision (mAP@0.50) = 1.000000, or 100.00 % \n",
            "Total Detection Time: 0 Seconds\n",
            "\n",
            "Set -points flag:\n",
            " `-points 101` for MS COCO \n",
            " `-points 11` for PascalVOC 2007 (uncomment `difficult` in voc.data) \n",
            " `-points 0` (AUC) for ImageNet, PascalVOC 2010-2012, your custom dataset\n"
          ]
        }
      ]
    },
    {
      "cell_type": "code",
      "metadata": {
        "colab": {
          "base_uri": "https://localhost:8080/"
        },
        "id": "0IMcn9t4RBRl",
        "outputId": "52aad6fd-5740-4743-da07-244a9d4cd6fb"
      },
      "source": [
        "import os\n",
        "import shutil\n",
        "import cv2\n",
        "\n",
        "def convert(size, box):\n",
        "    dw = 1./size[0]\n",
        "    dh = 1./size[1]\n",
        "    x = (box[0] + box[1])/2.0\n",
        "    y = (box[2] + box[3])/2.0\n",
        "    w = box[1] - box[0]\n",
        "    h = box[3] - box[2]\n",
        "    x = x*dw\n",
        "    w = w*dw\n",
        "    y = y*dh\n",
        "    h = h*dh\n",
        "    return (x,y,w,h)\n",
        "\n",
        "def run_convert(data_file, wider_train, yolo_path, file_info_name, write_txt):\n",
        "    now_path = os.getcwd()\n",
        "    data_counter = 0\n",
        "\n",
        "    with open(data_file, 'r') as f:\n",
        "        print(\"read file...\")\n",
        "        data = f.readlines()\n",
        "        \n",
        "        for data_line in data:\n",
        "            data_line = data_line.strip()\n",
        "            data_info = data_line.split('/')\n",
        "            # sub_count = 0\n",
        "            # the image name\n",
        "            if len(data_info) == 2:\n",
        "                label_0_counter = 1\n",
        "                data_info_path = os.path.join(data_info[0], data_info[1])\n",
        "                data_path = os.path.join(wider_train, data_info_path)\n",
        "\n",
        "                # copy image to yolo path and rename\n",
        "                shutil.copyfile(data_path, yolo_path + str(data_counter) + '.jpg')\n",
        "                \n",
        "                image = cv2.imread(data_path)\n",
        "                image_size = [image.shape[1],image.shape[0]]\n",
        "                \n",
        "                # image --> rename\n",
        "                with open(file_info_name, 'a') as f:\n",
        "                    line_txt = [data_info_path, ' --> ', yolo_path + str(data_counter) + '.jpg', '\\n']\n",
        "                    f.writelines(line_txt)\n",
        "\n",
        "                with open(write_txt, 'a') as f:\n",
        "                    path = os.path.join(now_path, yolo_path)\n",
        "                    line_txt = [path + str(data_counter) + '.jpg', '\\n']\n",
        "                    f.writelines(line_txt)\n",
        "                \n",
        "                data_counter += 1\n",
        "                label_list = []\n",
        "                # process other info\n",
        "                sub_count = 1\n",
        "                continue\n",
        "\n",
        "            # the count of bndBox\n",
        "            if sub_count == 1:\n",
        "                sub_count += 1\n",
        "                continue\n",
        "\n",
        "            # bndBox info\n",
        "            # print(\"process \", label_0_counter, \" bndBox info...\")\n",
        "            if sub_count >= 2:\n",
        "                label_0_counter += 1\n",
        "                info_list = data_line.split(' ')\n",
        "#                 print(\"WIDER FACE(x1, y1, w, h): \", info_list[0], info_list[1], info_list[2], info_list[3])\n",
        "                \n",
        "                xmin = int(info_list[0])\n",
        "                xmax = int(info_list[0])+int(info_list[2])\n",
        "                ymin = int(info_list[1])\n",
        "                ymax = int(info_list[1])+int(info_list[3])\n",
        "                \n",
        "                box = [xmin, xmax, ymin, ymax]\n",
        "                x, y, w, h = convert(image_size,box)\n",
        "#                 print(\"YOLO txt(x, y, w, h): \", x, y, w, h)\n",
        "                \n",
        "                with open(yolo_path + str(data_counter-1) + '.txt', 'a+') as f:\n",
        "                    f.write('0 %s %s %s %s\\n' % (x, y, w, h))\n",
        "                    \n",
        "    print('the file is processed')\n",
        "\n",
        "\n",
        "wider_train = \"img_0520\"\n",
        "yolo_path = \"Nozzle_detection/yolo_train/\"\n",
        "data_file = \"Nozzle_detection/nozzle_train_bbx_gt.txt\"\n",
        "file_info_name = 'file_info_train.txt'\n",
        "write_txt = 'Nozzle_detection/cfg/train.txt'\n",
        "\n",
        "# wider_train = \"WIDER_val/images\"\n",
        "# yolo_path = \"yolo_val/\"\n",
        "# data_file = \"wider_face_split/wider_face_val_bbx_gt.txt\"\n",
        "# file_info_name = 'file_info_val.txt'\n",
        "# write_txt = 'cfg/val.txt'\n",
        "\n",
        "if not os.path.exists(yolo_path):\n",
        "    os.mkdir(yolo_path)\n",
        "else:\n",
        "    lsdir = os.listdir(yolo_path)\n",
        "    for name in lsdir:\n",
        "        if name.endswith('.txt') or name.endswith('.jpg'):\n",
        "            os.remove(os.path.join(yolo_path, name))\n",
        "\n",
        "if os.path.exists(file_info_name):\n",
        "    file=open(file_info_name, 'w')\n",
        "    \n",
        "if os.path.exists(write_txt):\n",
        "    file=open(write_txt, 'w')\n",
        "\n",
        "run_convert(data_file, wider_train, yolo_path, file_info_name, write_txt)"
      ],
      "execution_count": 89,
      "outputs": [
        {
          "output_type": "stream",
          "name": "stdout",
          "text": [
            "read file...\n",
            "the file is processed\n"
          ]
        }
      ]
    },
    {
      "cell_type": "code",
      "metadata": {
        "id": "wk3X0pXSylT8"
      },
      "source": [
        "import cv2\n",
        "import os\n",
        "import numpy as np\n",
        "\n",
        "weightsPath = \"Nozzle_detection/weights/yolov4-tiny-obj_last.weights\"\n",
        "configPath = \"darknet/cfg/yolov4-tiny.cfg\"\n",
        "labelsPath = \"Nozzle_detection/cfg/nozzle.names\"\n",
        "imgdir = \"img_0520\"\n",
        "save_result_dir = \"detect_result\"\n",
        "save_txt_dir = \"detect_txt\"\n",
        "\n",
        "if not os.path.exists(save_result_dir):\n",
        "    os.mkdir(save_result_dir)\n",
        "    \n",
        "if not os.path.exists(save_txt_dir):\n",
        "    os.mkdir(save_txt_dir)    \n",
        "\n",
        "LABELS = open(labelsPath).read().strip().split(\"\\n\")\n",
        "# Set according to the number of categories\n",
        "COLORS = [(0, 255, 255), (255, 255, 0), (0, 255, 0), (255, 0, 0)]\n",
        "\n",
        "CONFIDENCE_THRESHOLD = 0.8\n",
        "NMS_THRESHOLD = 0.4\n",
        "\n",
        "net = cv2.dnn.readNet(weightsPath, configPath)\n",
        "net.setPreferableBackend(cv2.dnn.DNN_BACKEND_CUDA)\n",
        "net.setPreferableTarget(cv2.dnn.DNN_TARGET_CUDA_FP16)\n",
        "\n",
        "model = cv2.dnn_DetectionModel(net)\n",
        "# Set according to the size of input\n",
        "model.setInputParams(size=(416, 416), scale=1/255, swapRB=True)\n",
        "\n",
        "def convert(size, box):\n",
        "    dw = 1./size[0]\n",
        "    dh = 1./size[1]\n",
        "    x = (box[0] + box[1])/2.0\n",
        "    y = (box[2] + box[3])/2.0\n",
        "    w = box[1] - box[0]\n",
        "    h = box[3] - box[2]\n",
        "    x = x*dw\n",
        "    w = w*dw\n",
        "    y = y*dh\n",
        "    h = h*dh\n",
        "    return (x,y,w,h)\n",
        "\n",
        "for image_name in os.listdir(imgdir):\n",
        "    print(\"detect \" + image_name + \" ...\")\n",
        "    name = image_name.split('.jpg')[0]\n",
        "\n",
        "    img = cv2.imread(os.path.join(imgdir, image_name))\n",
        "    image_size = [img.shape[1],img.shape[0]]\n",
        "    \n",
        "    classes, scores, boxes = model.detect(img, CONFIDENCE_THRESHOLD, NMS_THRESHOLD)\n",
        "    print(classes, scores, boxes)\n",
        "    for (classid, score, box) in zip(classes, scores, boxes):\n",
        "        color = COLORS[int(classid) % len(COLORS)]\n",
        "        label = \"%s\" % (LABELS[classid[0]])\n",
        "        \n",
        "        xmin = int(box[0])\n",
        "        xmax = int(box[0])+int(box[2])\n",
        "        ymin = int(box[1])\n",
        "        ymax = int(box[1])+int(box[3])\n",
        "        \n",
        "        bndbox = [xmin, xmax, ymin, ymax]\n",
        "        x, y, w, h = convert(image_size, bndbox)\n",
        " \n",
        "        cv2.rectangle(img, box, color, 2)\n",
        "        text = label+ \":\"+str(score[0])\n",
        "        cv2.putText(img, text, (box[0], box[1] - 5), cv2.FONT_HERSHEY_SIMPLEX, 0.5, color, 2)\n",
        "        \n",
        "        with open(os.path.join(save_txt_dir, name+'.txt'), 'a+') as f:\n",
        "            # yolo txt\n",
        "            f.write('%s %s %s %s %s\\n' % (classid[0], x, y, w, h))\n",
        "        \n",
        "    cv2.imwrite(os.path.join(save_result_dir, name+\".jpg\"), img)"
      ],
      "execution_count": null,
      "outputs": []
    }
  ]
}