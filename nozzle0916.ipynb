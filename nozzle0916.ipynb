{
  "nbformat": 4,
  "nbformat_minor": 0,
  "metadata": {
    "colab": {
      "name": "nozzle0915.ipynb",
      "provenance": [],
      "collapsed_sections": []
    },
    "kernelspec": {
      "name": "python3",
      "display_name": "Python 3"
    },
    "language_info": {
      "name": "python"
    },
    "accelerator": "GPU"
  },
  "cells": [
    {
      "cell_type": "code",
      "metadata": {
        "id": "uC4bl-UlUZdK",
        "colab": {
          "base_uri": "https://localhost:8080/"
        },
        "outputId": "7ff2c3c3-bf51-4e95-c44b-c17aba2d8f74"
      },
      "source": [
        "#連接google雲端\n",
        "from google.colab import drive\n",
        "drive.mount('/content/drive')"
      ],
      "execution_count": 10,
      "outputs": [
        {
          "output_type": "stream",
          "name": "stdout",
          "text": [
            "Drive already mounted at /content/drive; to attempt to forcibly remount, call drive.mount(\"/content/drive\", force_remount=True).\n"
          ]
        }
      ]
    },
    {
      "cell_type": "code",
      "metadata": {
        "id": "RlXtbpTGDb7t"
      },
      "source": [
        "from google.colab import files\n",
        "files.upload()"
      ],
      "execution_count": null,
      "outputs": []
    },
    {
      "cell_type": "code",
      "metadata": {
        "id": "2lXGXS9JP6lt"
      },
      "source": [
        "# !rm -rf /content/drive/MyDrive/Colab"
      ],
      "execution_count": 25,
      "outputs": []
    },
    {
      "cell_type": "code",
      "metadata": {
        "id": "Aj7jIOkiP4F0"
      },
      "source": [
        "# !7z x ng.7z"
      ],
      "execution_count": null,
      "outputs": []
    },
    {
      "cell_type": "code",
      "metadata": {
        "colab": {
          "base_uri": "https://localhost:8080/"
        },
        "id": "R78_O8eVHxk9",
        "outputId": "49c72cbf-d332-4190-b2e0-aab8af154e16"
      },
      "source": [
        "# !find /content -name 'yolov4-tiny-obj_last (1).weights'"
      ],
      "execution_count": 13,
      "outputs": [
        {
          "output_type": "stream",
          "name": "stdout",
          "text": [
            "/content/Colab/darknet/yolov4-tiny-obj_last (1).weights\n"
          ]
        }
      ]
    },
    {
      "cell_type": "code",
      "metadata": {
        "id": "ySrAfuHCPiae"
      },
      "source": [
        "# %cd /content/drive/MyDrive/\n",
        "# %cp -r /content/drive/MyDrive/Colab/ ./\n",
        "%cp -r /content/Colab/ /content/drive/MyDrive/\n",
        "# %cd /content/"
      ],
      "execution_count": null,
      "outputs": []
    },
    {
      "cell_type": "code",
      "metadata": {
        "id": "0ZbW3JzPGdAw"
      },
      "source": [
        "# !pip install opencv-python==4.2.0.32"
      ],
      "execution_count": null,
      "outputs": []
    },
    {
      "cell_type": "code",
      "metadata": {
        "id": "hCbQecHhQ2gk"
      },
      "source": [
        "# %cd darknet\n",
        "# !sed -i '212s/255/18/' darknet/cfg/yolov4-tiny-obj.cfg\n",
        "# !sed -i '220s/80/1/' darknet/cfg/yolov4-tiny-obj.cfg\n",
        "# !sed -i '263s/255/18/' darknet/cfg/yolov4-tiny-obj.cfg\n",
        "# !sed -i '269s/80/1/' darknet/cfg/yolov4-tiny-obj.cfg\n",
        "# !make\n",
        "# !./darknet detector calc_anchors ../Nozzle_detection/cfg/nozzle.data -num_of_clusters 6 -width 416 -height 416 -showpause\n",
        "# !./darknet detector train ../Nozzle_detection/cfg/nozzle.data cfg/yolov4-tiny-obj.cfg ../Nozzle_detection/cfg/yolov4-tiny.conv.29 -dont_show\n",
        "# !./darknet detector test ../Nozzle_detection/cfg/nozzle.data cfg/yolov4-tiny-obj.cfg ../Nozzle_detection/weights/yolov4-tiny-obj_last.weights ../ng/nozzle_ng196.jpg\n",
        "# !./darknet detector map ../Nozzle_detection/cfg/nozzle.data cfg/yolov4-tiny-obj.cfg ../Nozzle_detection/weights/yolov4-tiny-obj_last.weights\n",
        "# !./darknet detector recall  ../Nozzle_detection/cfg/nozzle.data cfg/yolov4-tiny-obj.cfg ../Nozzle_detection/weights/yolov4-tiny-obj_last.weights\n"
      ],
      "execution_count": null,
      "outputs": []
    },
    {
      "cell_type": "code",
      "metadata": {
        "colab": {
          "base_uri": "https://localhost:8080/"
        },
        "id": "0IMcn9t4RBRl",
        "outputId": "1ebc6b17-17e6-47e0-b308-f3cfa994f423"
      },
      "source": [
        "import os\n",
        "import shutil\n",
        "import cv2\n",
        "\n",
        "def convert(size, box):\n",
        "    dw = 1./size[0]\n",
        "    dh = 1./size[1]\n",
        "    x = (box[0] + box[1])/2.0\n",
        "    y = (box[2] + box[3])/2.0\n",
        "    w = box[1] - box[0]\n",
        "    h = box[3] - box[2]\n",
        "    x = x*dw\n",
        "    w = w*dw\n",
        "    y = y*dh\n",
        "    h = h*dh\n",
        "    return (x,y,w,h)\n",
        "\n",
        "def run_convert(data_file, wider_train, yolo_path, file_info_name, write_txt):\n",
        "    now_path = os.getcwd()\n",
        "    data_counter = 0\n",
        "\n",
        "    with open(data_file, 'r') as f:\n",
        "        print(\"read file...\")\n",
        "        data = f.readlines()\n",
        "        \n",
        "        for data_line in data:\n",
        "            data_line = data_line.strip()\n",
        "            data_info = data_line.split('/')\n",
        "            # sub_count = 0\n",
        "            # the image name\n",
        "            if len(data_info) == 2:\n",
        "                label_0_counter = 1\n",
        "                data_info_path = os.path.join(data_info[0], data_info[1])\n",
        "                data_path = os.path.join(wider_train, data_info_path)\n",
        "\n",
        "                # copy image to yolo path and rename\n",
        "                shutil.copyfile(data_path, yolo_path + str(data_counter) + '.jpg')\n",
        "                \n",
        "                image = cv2.imread(data_path)\n",
        "                image_size = [image.shape[1],image.shape[0]]\n",
        "                \n",
        "                # image --> rename\n",
        "                with open(file_info_name, 'a') as f:\n",
        "                    line_txt = [data_info_path, ' --> ', yolo_path + str(data_counter) + '.jpg', '\\n']\n",
        "                    f.writelines(line_txt)\n",
        "\n",
        "                with open(write_txt, 'a') as f:\n",
        "                    path = os.path.join(now_path, yolo_path)\n",
        "                    line_txt = [path + str(data_counter) + '.jpg', '\\n']\n",
        "                    f.writelines(line_txt)\n",
        "                \n",
        "                data_counter += 1\n",
        "                label_list = []\n",
        "                # process other info\n",
        "                sub_count = 1\n",
        "                continue\n",
        "\n",
        "            # the count of bndBox\n",
        "            if sub_count == 1:\n",
        "                sub_count += 1\n",
        "                continue\n",
        "\n",
        "            # bndBox info\n",
        "            # print(\"process \", label_0_counter, \" bndBox info...\")\n",
        "            if sub_count >= 2:\n",
        "                label_0_counter += 1\n",
        "                info_list = data_line.split(' ')\n",
        "#                 print(\"WIDER FACE(x1, y1, w, h): \", info_list[0], info_list[1], info_list[2], info_list[3])\n",
        "                \n",
        "                xmin = int(info_list[0])\n",
        "                xmax = int(info_list[0])+int(info_list[2])\n",
        "                ymin = int(info_list[1])\n",
        "                ymax = int(info_list[1])+int(info_list[3])\n",
        "                \n",
        "                box = [xmin, xmax, ymin, ymax]\n",
        "                x, y, w, h = convert(image_size,box)\n",
        "#                 print(\"YOLO txt(x, y, w, h): \", x, y, w, h)\n",
        "                \n",
        "                with open(yolo_path + str(data_counter-1) + '.txt', 'a+') as f:\n",
        "                    f.write('0 %s %s %s %s\\n' % (x, y, w, h))\n",
        "                    \n",
        "    print('the file is processed')\n",
        "\n",
        "\n",
        "wider_train = \"img_0520\"\n",
        "yolo_path = \"Nozzle_detection/yolo_train/\"\n",
        "data_file = \"Nozzle_detection/nozzle_train_bbx_gt.txt\"\n",
        "file_info_name = 'file_info_train.txt'\n",
        "write_txt = 'Nozzle_detection/cfg/train.txt'\n",
        "\n",
        "# wider_train = \"WIDER_val/images\"\n",
        "# yolo_path = \"yolo_val/\"\n",
        "# data_file = \"wider_face_split/wider_face_val_bbx_gt.txt\"\n",
        "# file_info_name = 'file_info_val.txt'\n",
        "# write_txt = 'cfg/val.txt'\n",
        "\n",
        "if not os.path.exists(yolo_path):\n",
        "    os.mkdir(yolo_path)\n",
        "else:\n",
        "    lsdir = os.listdir(yolo_path)\n",
        "    for name in lsdir:\n",
        "        if name.endswith('.txt') or name.endswith('.jpg'):\n",
        "            os.remove(os.path.join(yolo_path, name))\n",
        "\n",
        "if os.path.exists(file_info_name):\n",
        "    file=open(file_info_name, 'w')\n",
        "    \n",
        "if os.path.exists(write_txt):\n",
        "    file=open(write_txt, 'w')\n",
        "\n",
        "run_convert(data_file, wider_train, yolo_path, file_info_name, write_txt)"
      ],
      "execution_count": 19,
      "outputs": [
        {
          "output_type": "stream",
          "name": "stdout",
          "text": [
            "read file...\n",
            "the file is processed\n"
          ]
        }
      ]
    },
    {
      "cell_type": "code",
      "metadata": {
        "colab": {
          "base_uri": "https://localhost:8080/",
          "height": 1000
        },
        "id": "wk3X0pXSylT8",
        "outputId": "d593b264-47b5-4733-dde4-50823d19a804"
      },
      "source": [
        "import cv2\n",
        "import os\n",
        "import numpy as np\n",
        "\n",
        "weightsPath = \"Nozzle_detection/weights/yolov4-tiny-obj_last.weights\"\n",
        "configPath = \"darknet/cfg/yolov4-tiny-obj.cfg\"\n",
        "labelsPath = \"Nozzle_detection/cfg/nozzle.names\"\n",
        "imgdir = \"img_0520\"\n",
        "save_result_dir = \"detect_result\"\n",
        "save_txt_dir = \"detect_txt\"\n",
        "\n",
        "if not os.path.exists(save_result_dir):\n",
        "    os.mkdir(save_result_dir)\n",
        "    \n",
        "if not os.path.exists(save_txt_dir):\n",
        "    os.mkdir(save_txt_dir)    \n",
        "\n",
        "LABELS = open(labelsPath).read().strip().split(\"\\n\")\n",
        "# Set according to the number of categories\n",
        "COLORS = [(0, 255, 255), (255, 255, 0), (0, 255, 0), (255, 0, 0)]\n",
        "\n",
        "CONFIDENCE_THRESHOLD = 0.7\n",
        "NMS_THRESHOLD = 0.4\n",
        "\n",
        "net = cv2.dnn.readNet(weightsPath, configPath)\n",
        "net.setPreferableBackend(cv2.dnn.DNN_BACKEND_CUDA)\n",
        "net.setPreferableTarget(cv2.dnn.DNN_TARGET_CUDA)\n",
        "\n",
        "model = cv2.dnn_DetectionModel(net)\n",
        "# Set according to the size of input\n",
        "model.setInputParams(size=(416, 416), scale=1/255, swapRB=True)\n",
        "\n",
        "def convert(size, box):\n",
        "    dw = 1./size[0]\n",
        "    dh = 1./size[1]\n",
        "    x = (box[0] + box[1])/2.0\n",
        "    y = (box[2] + box[3])/2.0\n",
        "    w = box[1] - box[0]\n",
        "    h = box[3] - box[2]\n",
        "    x = x*dw\n",
        "    w = w*dw\n",
        "    y = y*dh\n",
        "    h = h*dh\n",
        "    return (x,y,w,h)\n",
        "\n",
        "for image_name in os.listdir(imgdir):\n",
        "    print(\"detect \" + image_name + \" ...\")\n",
        "    name = image_name.split('.jpg')[0]\n",
        "\n",
        "    img = cv2.imread(os.path.join(imgdir, image_name))\n",
        "    image_size = [img.shape[1],img.shape[0]]\n",
        "    \n",
        "    classes, scores, boxes = model.detect(img, CONFIDENCE_THRESHOLD, NMS_THRESHOLD)\n",
        "    print(classes, scores, boxes)\n",
        "    '''\n",
        "    for (classid, score, box) in zip(classes, scores, boxes):\n",
        "        color = COLORS[int(classid) % len(COLORS)]\n",
        "        label = \"%s\" % (LABELS[classid[0]])\n",
        "        \n",
        "        xmin = int(box[0])\n",
        "        xmax = int(box[0])+int(box[2])\n",
        "        ymin = int(box[1])\n",
        "        ymax = int(box[1])+int(box[3])\n",
        "        \n",
        "        bndbox = [xmin, xmax, ymin, ymax]\n",
        "        x, y, w, h = convert(image_size, bndbox)\n",
        " \n",
        "        cv2.rectangle(img, box, color, 2)\n",
        "        text = label+ \":\"+str(score[0])\n",
        "        cv2.putText(img, text, (box[0], box[1] - 5), cv2.FONT_HERSHEY_SIMPLEX, 0.5, color, 2)\n",
        "        \n",
        "        with open(os.path.join(save_txt_dir, name+'.txt'), 'a+') as f:\n",
        "            # yolo txt\n",
        "            f.write('%s %s %s %s %s\\n' % (classid[0], x, y, w, h))\n",
        "        \n",
        "    cv2.imwrite(os.path.join(save_result_dir, name+\".jpg\"), img)\n",
        "    '''"
      ],
      "execution_count": 12,
      "outputs": [
        {
          "output_type": "stream",
          "name": "stdout",
          "text": [
            "detect 210600_cam.jpg ...\n",
            "() () ()\n",
            "detect 020000_cam.jpg ...\n",
            "() () ()\n",
            "detect 132400_cam.jpg ...\n",
            "() () ()\n",
            "detect 121200_cam.jpg ...\n",
            "() () ()\n",
            "detect 141200_cam.jpg ...\n",
            "() () ()\n",
            "detect 233600_cam.jpg ...\n",
            "() () ()\n",
            "detect 015400_cam.jpg ...\n",
            "() () ()\n",
            "detect 123000_cam.jpg ...\n",
            "() () ()\n",
            "detect 171800_cam.jpg ...\n",
            "() () ()\n",
            "detect 003630_cam.jpg ...\n",
            "() () ()\n",
            "detect 050600_cam.jpg ...\n",
            "() () ()\n",
            "detect 171200_cam.jpg ...\n",
            "() () ()\n",
            "detect 083000_cam.jpg ...\n",
            "() () ()\n",
            "detect 234200_cam.jpg ...\n",
            "() () ()\n",
            "detect 090000_cam.jpg ...\n",
            "() () ()\n",
            "detect 074200_cam.jpg ...\n",
            "() () ()\n",
            "detect 053600_cam.jpg ...\n",
            "() () ()\n",
            "detect 200600_cam.jpg ...\n",
            "() () ()\n",
            "detect 034800_cam.jpg ...\n",
            "() () ()\n",
            "detect 033000_cam.jpg ...\n",
            "() () ()\n",
            "detect 211800_cam.jpg ...\n",
            "() () ()\n",
            "detect 202400_cam.jpg ...\n",
            "() () ()\n",
            "detect 061200_cam.jpg ...\n",
            "() () ()\n",
            "detect 054800_cam.jpg ...\n",
            "() () ()\n",
            "detect 140000_cam.jpg ...\n",
            "() () ()\n",
            "detect 100000_cam.jpg ...\n",
            "() () ()\n",
            "detect 022400_cam.jpg ...\n"
          ]
        },
        {
          "output_type": "error",
          "ename": "KeyboardInterrupt",
          "evalue": "ignored",
          "traceback": [
            "\u001b[0;31m---------------------------------------------------------------------------\u001b[0m",
            "\u001b[0;31mKeyboardInterrupt\u001b[0m                         Traceback (most recent call last)",
            "\u001b[0;32m<ipython-input-12-0b37b1c4dc40>\u001b[0m in \u001b[0;36m<module>\u001b[0;34m()\u001b[0m\n\u001b[1;32m     48\u001b[0m     \u001b[0mname\u001b[0m \u001b[0;34m=\u001b[0m \u001b[0mimage_name\u001b[0m\u001b[0;34m.\u001b[0m\u001b[0msplit\u001b[0m\u001b[0;34m(\u001b[0m\u001b[0;34m'.jpg'\u001b[0m\u001b[0;34m)\u001b[0m\u001b[0;34m[\u001b[0m\u001b[0;36m0\u001b[0m\u001b[0;34m]\u001b[0m\u001b[0;34m\u001b[0m\u001b[0;34m\u001b[0m\u001b[0m\n\u001b[1;32m     49\u001b[0m \u001b[0;34m\u001b[0m\u001b[0m\n\u001b[0;32m---> 50\u001b[0;31m     \u001b[0mimg\u001b[0m \u001b[0;34m=\u001b[0m \u001b[0mcv2\u001b[0m\u001b[0;34m.\u001b[0m\u001b[0mimread\u001b[0m\u001b[0;34m(\u001b[0m\u001b[0mos\u001b[0m\u001b[0;34m.\u001b[0m\u001b[0mpath\u001b[0m\u001b[0;34m.\u001b[0m\u001b[0mjoin\u001b[0m\u001b[0;34m(\u001b[0m\u001b[0mimgdir\u001b[0m\u001b[0;34m,\u001b[0m \u001b[0mimage_name\u001b[0m\u001b[0;34m)\u001b[0m\u001b[0;34m)\u001b[0m\u001b[0;34m\u001b[0m\u001b[0;34m\u001b[0m\u001b[0m\n\u001b[0m\u001b[1;32m     51\u001b[0m     \u001b[0mimage_size\u001b[0m \u001b[0;34m=\u001b[0m \u001b[0;34m[\u001b[0m\u001b[0mimg\u001b[0m\u001b[0;34m.\u001b[0m\u001b[0mshape\u001b[0m\u001b[0;34m[\u001b[0m\u001b[0;36m1\u001b[0m\u001b[0;34m]\u001b[0m\u001b[0;34m,\u001b[0m\u001b[0mimg\u001b[0m\u001b[0;34m.\u001b[0m\u001b[0mshape\u001b[0m\u001b[0;34m[\u001b[0m\u001b[0;36m0\u001b[0m\u001b[0;34m]\u001b[0m\u001b[0;34m]\u001b[0m\u001b[0;34m\u001b[0m\u001b[0;34m\u001b[0m\u001b[0m\n\u001b[1;32m     52\u001b[0m \u001b[0;34m\u001b[0m\u001b[0m\n",
            "\u001b[0;31mKeyboardInterrupt\u001b[0m: "
          ]
        }
      ]
    }
  ]
}